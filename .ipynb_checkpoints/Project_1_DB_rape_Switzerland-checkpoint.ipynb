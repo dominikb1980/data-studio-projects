{
 "cells": [
  {
   "cell_type": "code",
   "execution_count": 1,
   "metadata": {},
   "outputs": [],
   "source": [
    "from selenium import webdriver"
   ]
  },
  {
   "cell_type": "code",
   "execution_count": 2,
   "metadata": {},
   "outputs": [],
   "source": [
    "driver = webdriver.Chrome()"
   ]
  },
  {
   "cell_type": "code",
   "execution_count": 3,
   "metadata": {},
   "outputs": [],
   "source": [
    "driver.get('http://www.gerichte-zh.ch/entscheide/entscheide-suchen.html')"
   ]
  },
  {
   "cell_type": "code",
   "execution_count": 4,
   "metadata": {},
   "outputs": [],
   "source": [
    "textbox = driver.find_element_by_css_selector(\"#entscheidsammlungSuche > form > div.suchformular_einfach > input:nth-child(2)\")"
   ]
  },
  {
   "cell_type": "code",
   "execution_count": 5,
   "metadata": {},
   "outputs": [
    {
     "data": {
      "text/plain": [
       "<selenium.webdriver.remote.webelement.WebElement (session=\"acf5255b40fdc8b9ca1aaee3c84e4617\", element=\"9caff2e2-837c-4df0-b3f4-964ca5e84d14\")>"
      ]
     },
     "execution_count": 5,
     "metadata": {},
     "output_type": "execute_result"
    }
   ],
   "source": [
    "textbox"
   ]
  },
  {
   "cell_type": "code",
   "execution_count": 6,
   "metadata": {},
   "outputs": [],
   "source": [
    "textbox.click()"
   ]
  },
  {
   "cell_type": "code",
   "execution_count": 7,
   "metadata": {},
   "outputs": [],
   "source": [
    "textbox.send_keys(\"vergewaltigung\")"
   ]
  },
  {
   "cell_type": "code",
   "execution_count": 8,
   "metadata": {},
   "outputs": [],
   "source": [
    "button1 = driver.find_element_by_css_selector(\"#entscheidsammlungSuche > form > div:nth-child(3) > input\")"
   ]
  },
  {
   "cell_type": "code",
   "execution_count": 9,
   "metadata": {},
   "outputs": [],
   "source": [
    "button1.click()"
   ]
  },
  {
   "cell_type": "code",
   "execution_count": 10,
   "metadata": {},
   "outputs": [],
   "source": [
    "#button2 = driver.find_element_by_css_selector(\"#livesearch > div.entscheid.entscheid_nummer_22824 > p:nth-child(3) > span:nth-child(9) > a\")"
   ]
  },
  {
   "cell_type": "code",
   "execution_count": 11,
   "metadata": {},
   "outputs": [],
   "source": [
    "#button2.click()"
   ]
  },
  {
   "cell_type": "code",
   "execution_count": 12,
   "metadata": {},
   "outputs": [],
   "source": [
    "#link = driver.find_element_by_class_name(\"pdf-icon\")"
   ]
  },
  {
   "cell_type": "code",
   "execution_count": 13,
   "metadata": {},
   "outputs": [],
   "source": [
    "#link.get_attribute(\"href\")"
   ]
  },
  {
   "cell_type": "markdown",
   "metadata": {},
   "source": [
    "## Loop ## "
   ]
  },
  {
   "cell_type": "code",
   "execution_count": 23,
   "metadata": {},
   "outputs": [],
   "source": [
    "all_details = driver.find_elements_by_xpath(\"//*[contains(text(), 'Details')]\")"
   ]
  },
  {
   "cell_type": "code",
   "execution_count": 24,
   "metadata": {},
   "outputs": [
    {
     "data": {
      "text/plain": [
       "[<selenium.webdriver.remote.webelement.WebElement (session=\"acf5255b40fdc8b9ca1aaee3c84e4617\", element=\"6cbd7b49-2f2e-4ff0-bf36-241058ec9af7\")>,\n",
       " <selenium.webdriver.remote.webelement.WebElement (session=\"acf5255b40fdc8b9ca1aaee3c84e4617\", element=\"2f7a07b1-6f67-4a91-a86e-b83a14de8af3\")>,\n",
       " <selenium.webdriver.remote.webelement.WebElement (session=\"acf5255b40fdc8b9ca1aaee3c84e4617\", element=\"a762715e-a6b7-4164-9cb5-763bfc6fbe56\")>,\n",
       " <selenium.webdriver.remote.webelement.WebElement (session=\"acf5255b40fdc8b9ca1aaee3c84e4617\", element=\"9f421c20-d54f-4926-a89e-5399abc0a4d0\")>,\n",
       " <selenium.webdriver.remote.webelement.WebElement (session=\"acf5255b40fdc8b9ca1aaee3c84e4617\", element=\"214ab5b6-2252-4812-ac2c-b36c42b40912\")>]"
      ]
     },
     "execution_count": 24,
     "metadata": {},
     "output_type": "execute_result"
    }
   ],
   "source": [
    "all_details[0:5]"
   ]
  },
  {
   "cell_type": "code",
   "execution_count": 25,
   "metadata": {},
   "outputs": [
    {
     "data": {
      "text/plain": [
       "<bound method WebDriver.find_elements_by_class_name of <selenium.webdriver.chrome.webdriver.WebDriver (session=\"acf5255b40fdc8b9ca1aaee3c84e4617\")>>"
      ]
     },
     "execution_count": 25,
     "metadata": {},
     "output_type": "execute_result"
    }
   ],
   "source": [
    "driver.find_elements_by_class_name"
   ]
  },
  {
   "cell_type": "code",
   "execution_count": 33,
   "metadata": {},
   "outputs": [],
   "source": [
    "from selenium.webdriver.common.by import By\n",
    "from selenium.webdriver.support import expected_conditions as EC"
   ]
  },
  {
   "cell_type": "code",
   "execution_count": 40,
   "metadata": {},
   "outputs": [
    {
     "ename": "ElementClickInterceptedException",
     "evalue": "Message: element click intercepted: Element <a class=\"detaillink15295\" href=\"javascript:entscheid...Anzeigen(15295);\">Details</a> is not clickable at point (256, 6). Other element would receive the click: <strong>...</strong>\n  (Session info: chrome=75.0.3770.100)\n",
     "output_type": "error",
     "traceback": [
      "\u001b[1;31m---------------------------------------------------------------------------\u001b[0m",
      "\u001b[1;31mElementClickInterceptedException\u001b[0m          Traceback (most recent call last)",
      "\u001b[1;32m<ipython-input-40-f139dc038507>\u001b[0m in \u001b[0;36m<module>\u001b[1;34m\u001b[0m\n\u001b[0;32m      6\u001b[0m \u001b[0mpdf_links\u001b[0m\u001b[1;33m=\u001b[0m\u001b[1;33m[\u001b[0m\u001b[1;33m]\u001b[0m\u001b[1;33m\u001b[0m\u001b[1;33m\u001b[0m\u001b[0m\n\u001b[0;32m      7\u001b[0m \u001b[1;32mfor\u001b[0m \u001b[0mbutton\u001b[0m \u001b[1;32min\u001b[0m \u001b[0mall_details\u001b[0m\u001b[1;33m:\u001b[0m\u001b[1;33m\u001b[0m\u001b[1;33m\u001b[0m\u001b[0m\n\u001b[1;32m----> 8\u001b[1;33m     \u001b[0mbutton\u001b[0m\u001b[1;33m.\u001b[0m\u001b[0mclick\u001b[0m\u001b[1;33m(\u001b[0m\u001b[1;33m)\u001b[0m\u001b[1;33m\u001b[0m\u001b[1;33m\u001b[0m\u001b[0m\n\u001b[0m\u001b[0;32m      9\u001b[0m     \u001b[1;32mtry\u001b[0m\u001b[1;33m:\u001b[0m\u001b[1;33m\u001b[0m\u001b[1;33m\u001b[0m\u001b[0m\n\u001b[0;32m     10\u001b[0m         \u001b[0mlinks\u001b[0m \u001b[1;33m=\u001b[0m \u001b[0mdriver\u001b[0m\u001b[1;33m.\u001b[0m\u001b[0mfind_elements_by_class_name\u001b[0m\u001b[1;33m(\u001b[0m\u001b[1;34m\"pdf-icon\"\u001b[0m\u001b[1;33m)\u001b[0m\u001b[1;33m\u001b[0m\u001b[1;33m\u001b[0m\u001b[0m\n",
      "\u001b[1;32m~\\AppData\\Local\\Programs\\Python\\Python37\\lib\\site-packages\\selenium\\webdriver\\remote\\webelement.py\u001b[0m in \u001b[0;36mclick\u001b[1;34m(self)\u001b[0m\n\u001b[0;32m     78\u001b[0m     \u001b[1;32mdef\u001b[0m \u001b[0mclick\u001b[0m\u001b[1;33m(\u001b[0m\u001b[0mself\u001b[0m\u001b[1;33m)\u001b[0m\u001b[1;33m:\u001b[0m\u001b[1;33m\u001b[0m\u001b[1;33m\u001b[0m\u001b[0m\n\u001b[0;32m     79\u001b[0m         \u001b[1;34m\"\"\"Clicks the element.\"\"\"\u001b[0m\u001b[1;33m\u001b[0m\u001b[1;33m\u001b[0m\u001b[0m\n\u001b[1;32m---> 80\u001b[1;33m         \u001b[0mself\u001b[0m\u001b[1;33m.\u001b[0m\u001b[0m_execute\u001b[0m\u001b[1;33m(\u001b[0m\u001b[0mCommand\u001b[0m\u001b[1;33m.\u001b[0m\u001b[0mCLICK_ELEMENT\u001b[0m\u001b[1;33m)\u001b[0m\u001b[1;33m\u001b[0m\u001b[1;33m\u001b[0m\u001b[0m\n\u001b[0m\u001b[0;32m     81\u001b[0m \u001b[1;33m\u001b[0m\u001b[0m\n\u001b[0;32m     82\u001b[0m     \u001b[1;32mdef\u001b[0m \u001b[0msubmit\u001b[0m\u001b[1;33m(\u001b[0m\u001b[0mself\u001b[0m\u001b[1;33m)\u001b[0m\u001b[1;33m:\u001b[0m\u001b[1;33m\u001b[0m\u001b[1;33m\u001b[0m\u001b[0m\n",
      "\u001b[1;32m~\\AppData\\Local\\Programs\\Python\\Python37\\lib\\site-packages\\selenium\\webdriver\\remote\\webelement.py\u001b[0m in \u001b[0;36m_execute\u001b[1;34m(self, command, params)\u001b[0m\n\u001b[0;32m    631\u001b[0m             \u001b[0mparams\u001b[0m \u001b[1;33m=\u001b[0m \u001b[1;33m{\u001b[0m\u001b[1;33m}\u001b[0m\u001b[1;33m\u001b[0m\u001b[1;33m\u001b[0m\u001b[0m\n\u001b[0;32m    632\u001b[0m         \u001b[0mparams\u001b[0m\u001b[1;33m[\u001b[0m\u001b[1;34m'id'\u001b[0m\u001b[1;33m]\u001b[0m \u001b[1;33m=\u001b[0m \u001b[0mself\u001b[0m\u001b[1;33m.\u001b[0m\u001b[0m_id\u001b[0m\u001b[1;33m\u001b[0m\u001b[1;33m\u001b[0m\u001b[0m\n\u001b[1;32m--> 633\u001b[1;33m         \u001b[1;32mreturn\u001b[0m \u001b[0mself\u001b[0m\u001b[1;33m.\u001b[0m\u001b[0m_parent\u001b[0m\u001b[1;33m.\u001b[0m\u001b[0mexecute\u001b[0m\u001b[1;33m(\u001b[0m\u001b[0mcommand\u001b[0m\u001b[1;33m,\u001b[0m \u001b[0mparams\u001b[0m\u001b[1;33m)\u001b[0m\u001b[1;33m\u001b[0m\u001b[1;33m\u001b[0m\u001b[0m\n\u001b[0m\u001b[0;32m    634\u001b[0m \u001b[1;33m\u001b[0m\u001b[0m\n\u001b[0;32m    635\u001b[0m     \u001b[1;32mdef\u001b[0m \u001b[0mfind_element\u001b[0m\u001b[1;33m(\u001b[0m\u001b[0mself\u001b[0m\u001b[1;33m,\u001b[0m \u001b[0mby\u001b[0m\u001b[1;33m=\u001b[0m\u001b[0mBy\u001b[0m\u001b[1;33m.\u001b[0m\u001b[0mID\u001b[0m\u001b[1;33m,\u001b[0m \u001b[0mvalue\u001b[0m\u001b[1;33m=\u001b[0m\u001b[1;32mNone\u001b[0m\u001b[1;33m)\u001b[0m\u001b[1;33m:\u001b[0m\u001b[1;33m\u001b[0m\u001b[1;33m\u001b[0m\u001b[0m\n",
      "\u001b[1;32m~\\AppData\\Local\\Programs\\Python\\Python37\\lib\\site-packages\\selenium\\webdriver\\remote\\webdriver.py\u001b[0m in \u001b[0;36mexecute\u001b[1;34m(self, driver_command, params)\u001b[0m\n\u001b[0;32m    319\u001b[0m         \u001b[0mresponse\u001b[0m \u001b[1;33m=\u001b[0m \u001b[0mself\u001b[0m\u001b[1;33m.\u001b[0m\u001b[0mcommand_executor\u001b[0m\u001b[1;33m.\u001b[0m\u001b[0mexecute\u001b[0m\u001b[1;33m(\u001b[0m\u001b[0mdriver_command\u001b[0m\u001b[1;33m,\u001b[0m \u001b[0mparams\u001b[0m\u001b[1;33m)\u001b[0m\u001b[1;33m\u001b[0m\u001b[1;33m\u001b[0m\u001b[0m\n\u001b[0;32m    320\u001b[0m         \u001b[1;32mif\u001b[0m \u001b[0mresponse\u001b[0m\u001b[1;33m:\u001b[0m\u001b[1;33m\u001b[0m\u001b[1;33m\u001b[0m\u001b[0m\n\u001b[1;32m--> 321\u001b[1;33m             \u001b[0mself\u001b[0m\u001b[1;33m.\u001b[0m\u001b[0merror_handler\u001b[0m\u001b[1;33m.\u001b[0m\u001b[0mcheck_response\u001b[0m\u001b[1;33m(\u001b[0m\u001b[0mresponse\u001b[0m\u001b[1;33m)\u001b[0m\u001b[1;33m\u001b[0m\u001b[1;33m\u001b[0m\u001b[0m\n\u001b[0m\u001b[0;32m    322\u001b[0m             response['value'] = self._unwrap_value(\n\u001b[0;32m    323\u001b[0m                 response.get('value', None))\n",
      "\u001b[1;32m~\\AppData\\Local\\Programs\\Python\\Python37\\lib\\site-packages\\selenium\\webdriver\\remote\\errorhandler.py\u001b[0m in \u001b[0;36mcheck_response\u001b[1;34m(self, response)\u001b[0m\n\u001b[0;32m    240\u001b[0m                 \u001b[0malert_text\u001b[0m \u001b[1;33m=\u001b[0m \u001b[0mvalue\u001b[0m\u001b[1;33m[\u001b[0m\u001b[1;34m'alert'\u001b[0m\u001b[1;33m]\u001b[0m\u001b[1;33m.\u001b[0m\u001b[0mget\u001b[0m\u001b[1;33m(\u001b[0m\u001b[1;34m'text'\u001b[0m\u001b[1;33m)\u001b[0m\u001b[1;33m\u001b[0m\u001b[1;33m\u001b[0m\u001b[0m\n\u001b[0;32m    241\u001b[0m             \u001b[1;32mraise\u001b[0m \u001b[0mexception_class\u001b[0m\u001b[1;33m(\u001b[0m\u001b[0mmessage\u001b[0m\u001b[1;33m,\u001b[0m \u001b[0mscreen\u001b[0m\u001b[1;33m,\u001b[0m \u001b[0mstacktrace\u001b[0m\u001b[1;33m,\u001b[0m \u001b[0malert_text\u001b[0m\u001b[1;33m)\u001b[0m\u001b[1;33m\u001b[0m\u001b[1;33m\u001b[0m\u001b[0m\n\u001b[1;32m--> 242\u001b[1;33m         \u001b[1;32mraise\u001b[0m \u001b[0mexception_class\u001b[0m\u001b[1;33m(\u001b[0m\u001b[0mmessage\u001b[0m\u001b[1;33m,\u001b[0m \u001b[0mscreen\u001b[0m\u001b[1;33m,\u001b[0m \u001b[0mstacktrace\u001b[0m\u001b[1;33m)\u001b[0m\u001b[1;33m\u001b[0m\u001b[1;33m\u001b[0m\u001b[0m\n\u001b[0m\u001b[0;32m    243\u001b[0m \u001b[1;33m\u001b[0m\u001b[0m\n\u001b[0;32m    244\u001b[0m     \u001b[1;32mdef\u001b[0m \u001b[0m_value_or_default\u001b[0m\u001b[1;33m(\u001b[0m\u001b[0mself\u001b[0m\u001b[1;33m,\u001b[0m \u001b[0mobj\u001b[0m\u001b[1;33m,\u001b[0m \u001b[0mkey\u001b[0m\u001b[1;33m,\u001b[0m \u001b[0mdefault\u001b[0m\u001b[1;33m)\u001b[0m\u001b[1;33m:\u001b[0m\u001b[1;33m\u001b[0m\u001b[1;33m\u001b[0m\u001b[0m\n",
      "\u001b[1;31mElementClickInterceptedException\u001b[0m: Message: element click intercepted: Element <a class=\"detaillink15295\" href=\"javascript:entscheid...Anzeigen(15295);\">Details</a> is not clickable at point (256, 6). Other element would receive the click: <strong>...</strong>\n  (Session info: chrome=75.0.3770.100)\n"
     ]
    }
   ],
   "source": [
    "\n",
    "# driver.find_element_by_css_selector('#ss').send_keys(\"London\")\n",
    "# WebDriverWait(driver,5).until(EC.element_to_be_clickable((By.XPATH, '//')))\n",
    "\n",
    "\n",
    "pdf_links=[]\n",
    "for button in all_details:\n",
    "    button.click()    \n",
    "    try:\n",
    "        links = driver.find_elements_by_class_name(\"pdf-icon\")\n",
    "        for link in links:\n",
    "            pdf_links.append(link.get_attribute(\"href\"))    \n",
    "    except:\n",
    "        pass\n",
    "    "
   ]
  },
  {
   "cell_type": "code",
   "execution_count": 41,
   "metadata": {},
   "outputs": [
    {
     "data": {
      "text/plain": [
       "['http://www.gerichte-zh.ch/fileadmin/user_upload/entscheide/oeffentlich/SR120015-O1.pdf',\n",
       " 'http://www.gerichte-zh.ch/fileadmin/user_upload/entscheide/oeffentlich/NQ110047-O1.pdf',\n",
       " 'http://www.gerichte-zh.ch/fileadmin/user_upload/entscheide/oeffentlich/SB120084-O1.pdf',\n",
       " 'http://www.gerichte-zh.ch/fileadmin/user_upload/entscheide/oeffentlich/SU150121-O1.pdf',\n",
       " 'http://www.gerichte-zh.ch/fileadmin/user_upload/entscheide/oeffentlich/092EC39BC1E215B7C12574D700213750_AC080005.pdf',\n",
       " 'http://www.gerichte-zh.ch/fileadmin/user_upload/entscheide/oeffentlich/SB170446-O1.pdf',\n",
       " 'http://www.gerichte-zh.ch/fileadmin/user_upload/entscheide/oeffentlich/SB120525-O1.pdf',\n",
       " 'http://www.gerichte-zh.ch/fileadmin/user_upload/entscheide/oeffentlich/SB150250-O1.pdf',\n",
       " 'http://www.gerichte-zh.ch/fileadmin/user_upload/entscheide/oeffentlich/SB140425-O1.pdf',\n",
       " 'http://www.gerichte-zh.ch/fileadmin/user_upload/entscheide/oeffentlich/SB170194-O1.pdf',\n",
       " 'http://www.gerichte-zh.ch/fileadmin/user_upload/entscheide/oeffentlich/SB150197-O1.pdf',\n",
       " 'http://www.gerichte-zh.ch/fileadmin/user_upload/entscheide/oeffentlich/SB120486-O1.pdf',\n",
       " 'http://www.gerichte-zh.ch/fileadmin/user_upload/entscheide/oeffentlich/SB150034-O1.pdf',\n",
       " 'http://www.gerichte-zh.ch/fileadmin/user_upload/entscheide/oeffentlich/SF160007-O1.pdf',\n",
       " 'http://www.gerichte-zh.ch/fileadmin/user_upload/entscheide/oeffentlich/SB120454-O1.pdf',\n",
       " 'http://www.gerichte-zh.ch/fileadmin/user_upload/entscheide/oeffentlich/SB120302-O1.pdf',\n",
       " 'http://www.gerichte-zh.ch/fileadmin/user_upload/entscheide/oeffentlich/SB120319-O1.pdf',\n",
       " 'http://www.gerichte-zh.ch/fileadmin/user_upload/entscheide/oeffentlich/C76571C85520952AC125714500310BA2_AC050075.pdf',\n",
       " 'http://www.gerichte-zh.ch/fileadmin/user_upload/entscheide/oeffentlich/1F1172D32D375C9CC1256F3800262FE3_AC040018.pdf',\n",
       " 'http://www.gerichte-zh.ch/fileadmin/user_upload/entscheide/oeffentlich/SB150361-O1.pdf',\n",
       " 'http://www.gerichte-zh.ch/fileadmin/user_upload/entscheide/oeffentlich/UE130289-O3.pdf',\n",
       " 'http://www.gerichte-zh.ch/fileadmin/user_upload/entscheide/oeffentlich/00F66FC4AA8D8D38C1257230002608A0_AC060026.pdf',\n",
       " 'http://www.gerichte-zh.ch/fileadmin/user_upload/entscheide/oeffentlich/SB160158-O1.pdf',\n",
       " 'http://www.gerichte-zh.ch/fileadmin/user_upload/entscheide/oeffentlich/SB120527-O1.pdf',\n",
       " 'http://www.gerichte-zh.ch/fileadmin/user_upload/entscheide/oeffentlich/UH130255-O5.pdf',\n",
       " 'http://www.gerichte-zh.ch/fileadmin/user_upload/entscheide/oeffentlich/4721881EC95EBE20C1256DFA0053A366_Uanonym.pdf',\n",
       " 'http://www.gerichte-zh.ch/fileadmin/user_upload/entscheide/oeffentlich/024570B67D8A4A3BC12574A2004C2E06_AC070022.pdf',\n",
       " 'http://www.gerichte-zh.ch/fileadmin/user_upload/entscheide/oeffentlich/SB110601-O1.pdf',\n",
       " 'http://www.gerichte-zh.ch/fileadmin/user_upload/entscheide/oeffentlich/D5A8D2AD366ABE1FC12575CF0048977C_AC090002.pdf',\n",
       " 'http://www.gerichte-zh.ch/fileadmin/user_upload/entscheide/oeffentlich/UH160305-O6.pdf',\n",
       " 'http://www.gerichte-zh.ch/fileadmin/user_upload/entscheide/oeffentlich/SB120308-O1.pdf',\n",
       " 'http://www.gerichte-zh.ch/fileadmin/user_upload/entscheide/oeffentlich/SB170226-O1.pdf',\n",
       " 'http://www.gerichte-zh.ch/fileadmin/user_upload/entscheide/oeffentlich/SB110353-O1.pdf',\n",
       " 'http://www.gerichte-zh.ch/fileadmin/user_upload/entscheide/oeffentlich/SB160339-O1.pdf',\n",
       " 'http://www.gerichte-zh.ch/fileadmin/user_upload/entscheide/oeffentlich/SB150004-O1.pdf',\n",
       " 'http://www.gerichte-zh.ch/fileadmin/user_upload/entscheide/oeffentlich/SB110625-O1.pdf',\n",
       " 'http://www.gerichte-zh.ch/fileadmin/user_upload/entscheide/oeffentlich/AC080016.pdf',\n",
       " 'http://www.gerichte-zh.ch/fileadmin/user_upload/entscheide/oeffentlich/SB110506-O1.pdf',\n",
       " 'http://www.gerichte-zh.ch/fileadmin/user_upload/entscheide/oeffentlich/PA170023-O2.pdf',\n",
       " 'http://www.gerichte-zh.ch/fileadmin/user_upload/entscheide/oeffentlich/SB110514-O1.pdf',\n",
       " 'http://www.gerichte-zh.ch/fileadmin/user_upload/entscheide/oeffentlich/SB150350-O1.pdf',\n",
       " 'http://www.gerichte-zh.ch/fileadmin/user_upload/entscheide/oeffentlich/SB140149-O1.pdf',\n",
       " 'http://www.gerichte-zh.ch/fileadmin/user_upload/entscheide/oeffentlich/SB110588-O1.pdf',\n",
       " 'http://www.gerichte-zh.ch/fileadmin/user_upload/entscheide/oeffentlich/371EFD7A79861132C1257060004330A7_AC040111.pdf',\n",
       " 'http://www.gerichte-zh.ch/fileadmin/user_upload/entscheide/oeffentlich/LZ140001-O4.pdf',\n",
       " 'http://www.gerichte-zh.ch/fileadmin/user_upload/entscheide/oeffentlich/UH150249-O7.pdf',\n",
       " 'http://www.gerichte-zh.ch/fileadmin/user_upload/entscheide/oeffentlich/SB140458-O1.pdf',\n",
       " 'http://www.gerichte-zh.ch/fileadmin/user_upload/entscheide/oeffentlich/SB130134-O1.pdf',\n",
       " 'http://www.gerichte-zh.ch/fileadmin/user_upload/entscheide/oeffentlich/SB110481-O1.pdf',\n",
       " 'http://www.gerichte-zh.ch/fileadmin/user_upload/entscheide/oeffentlich/SB140387-O1.pdf',\n",
       " 'http://www.gerichte-zh.ch/fileadmin/user_upload/entscheide/oeffentlich/SF140005-O1.pdf',\n",
       " 'http://www.gerichte-zh.ch/fileadmin/user_upload/entscheide/oeffentlich/SB120264-O1.pdf',\n",
       " 'http://www.gerichte-zh.ch/fileadmin/user_upload/entscheide/oeffentlich/PA140034-O1.pdf',\n",
       " 'http://www.gerichte-zh.ch/fileadmin/user_upload/entscheide/oeffentlich/SB150427-O1.pdf',\n",
       " 'http://www.gerichte-zh.ch/fileadmin/user_upload/entscheide/oeffentlich/SB160467-O1.pdf',\n",
       " 'http://www.gerichte-zh.ch/fileadmin/user_upload/entscheide/oeffentlich/SB140207-O1.pdf',\n",
       " 'http://www.gerichte-zh.ch/fileadmin/user_upload/entscheide/oeffentlich/SB180195-O1.pdf',\n",
       " 'http://www.gerichte-zh.ch/fileadmin/user_upload/entscheide/oeffentlich/UE170197-O1.pdf',\n",
       " 'http://www.gerichte-zh.ch/fileadmin/user_upload/entscheide/oeffentlich/SB120476-O1.pdf',\n",
       " 'http://www.gerichte-zh.ch/fileadmin/user_upload/entscheide/oeffentlich/SB120212-O1.pdf',\n",
       " 'http://www.gerichte-zh.ch/fileadmin/user_upload/entscheide/oeffentlich/5FF10D906A3CBB22C125714500303046_AC050061.pdf',\n",
       " 'http://www.gerichte-zh.ch/fileadmin/user_upload/entscheide/oeffentlich/SB130187-O1.pdf',\n",
       " 'http://www.gerichte-zh.ch/fileadmin/user_upload/entscheide/oeffentlich/SB120148-O1.pdf',\n",
       " 'http://www.gerichte-zh.ch/fileadmin/user_upload/entscheide/oeffentlich/AC090020.pdf',\n",
       " 'http://www.gerichte-zh.ch/fileadmin/user_upload/entscheide/oeffentlich/SB140194-O1.pdf',\n",
       " 'http://www.gerichte-zh.ch/fileadmin/user_upload/entscheide/oeffentlich/SB110314-O1.pdf',\n",
       " 'http://www.gerichte-zh.ch/fileadmin/user_upload/entscheide/oeffentlich/SB140196-O1.pdf',\n",
       " 'http://www.gerichte-zh.ch/fileadmin/user_upload/entscheide/oeffentlich/HE170345-O2.pdf',\n",
       " 'http://www.gerichte-zh.ch/fileadmin/user_upload/entscheide/oeffentlich/SB130491-O1.pdf',\n",
       " 'http://www.gerichte-zh.ch/fileadmin/user_upload/entscheide/oeffentlich/41A344A6D37A0AB4C125700A00520CD8_AC050049.pdf',\n",
       " 'http://www.gerichte-zh.ch/fileadmin/user_upload/entscheide/oeffentlich/SB100743-O1.pdf',\n",
       " 'http://www.gerichte-zh.ch/fileadmin/user_upload/entscheide/oeffentlich/UA160019-O3.pdf',\n",
       " 'http://www.gerichte-zh.ch/fileadmin/user_upload/entscheide/oeffentlich/SB120200-O1.pdf',\n",
       " 'http://www.gerichte-zh.ch/fileadmin/user_upload/entscheide/oeffentlich/SB120095-O1.pdf',\n",
       " 'http://www.gerichte-zh.ch/fileadmin/user_upload/entscheide/oeffentlich/SB130479-O1.pdf',\n",
       " 'http://www.gerichte-zh.ch/fileadmin/user_upload/entscheide/oeffentlich/PA170023.pdf',\n",
       " 'http://www.gerichte-zh.ch/fileadmin/user_upload/entscheide/oeffentlich/SR150016-O1.pdf',\n",
       " 'http://www.gerichte-zh.ch/fileadmin/user_upload/entscheide/oeffentlich/UH150081-O1.pdf',\n",
       " 'http://www.gerichte-zh.ch/fileadmin/user_upload/entscheide/oeffentlich/A604C6B4082E7DC4C1256F93003D4035_AA040112.pdf',\n",
       " 'http://www.gerichte-zh.ch/fileadmin/user_upload/entscheide/oeffentlich/SB160091-O1.pdf',\n",
       " 'http://www.gerichte-zh.ch/fileadmin/user_upload/entscheide/oeffentlich/UA130040-O3.pdf',\n",
       " 'http://www.gerichte-zh.ch/fileadmin/user_upload/entscheide/oeffentlich/SB170093-O1.pdf',\n",
       " 'http://www.gerichte-zh.ch/fileadmin/user_upload/entscheide/oeffentlich/1A31A0B6C62E1D7EC1256F3C003ED0EE_AC040015.pdf',\n",
       " 'http://www.gerichte-zh.ch/fileadmin/user_upload/entscheide/oeffentlich/09D897750E1718E9C1257590002507D9_AC080020.pdf',\n",
       " 'http://www.gerichte-zh.ch/fileadmin/user_upload/entscheide/oeffentlich/SB100517-O1.pdf',\n",
       " 'http://www.gerichte-zh.ch/fileadmin/user_upload/entscheide/oeffentlich/SB150091-O1.pdf',\n",
       " 'http://www.gerichte-zh.ch/fileadmin/user_upload/entscheide/oeffentlich/SB130168-O1.pdf',\n",
       " 'http://www.gerichte-zh.ch/fileadmin/user_upload/entscheide/oeffentlich/SB130450-O1.pdf',\n",
       " 'http://www.gerichte-zh.ch/fileadmin/user_upload/entscheide/oeffentlich/85175E57FE067A09C1256F2300252AAB_AC040039.pdf',\n",
       " 'http://www.gerichte-zh.ch/fileadmin/user_upload/entscheide/oeffentlich/SB160484-O1.pdf',\n",
       " 'http://www.gerichte-zh.ch/fileadmin/user_upload/entscheide/oeffentlich/SB130079-O1.pdf',\n",
       " 'http://www.gerichte-zh.ch/fileadmin/user_upload/entscheide/oeffentlich/WF120001-O1.pdf',\n",
       " 'http://www.gerichte-zh.ch/fileadmin/user_upload/entscheide/oeffentlich/UE120272-O3.pdf',\n",
       " 'http://www.gerichte-zh.ch/fileadmin/user_upload/entscheide/oeffentlich/PP170021-O4.pdf',\n",
       " 'http://www.gerichte-zh.ch/fileadmin/user_upload/entscheide/oeffentlich/UP130056-O2.pdf',\n",
       " 'http://www.gerichte-zh.ch/fileadmin/user_upload/entscheide/oeffentlich/57DC02ADF4CE3F6EC12575C1004E4EB7_AC090001.pdf',\n",
       " 'http://www.gerichte-zh.ch/fileadmin/user_upload/entscheide/oeffentlich/SB110303-O1.pdf',\n",
       " 'http://www.gerichte-zh.ch/fileadmin/user_upload/entscheide/oeffentlich/SB150387-O1.pdf',\n",
       " 'http://www.gerichte-zh.ch/fileadmin/user_upload/entscheide/oeffentlich/SB170139-O1.pdf',\n",
       " 'http://www.gerichte-zh.ch/fileadmin/user_upload/entscheide/oeffentlich/UH150031-O2.pdf',\n",
       " 'http://www.gerichte-zh.ch/fileadmin/user_upload/entscheide/oeffentlich/SB130277-O1.pdf',\n",
       " 'http://www.gerichte-zh.ch/fileadmin/user_upload/entscheide/oeffentlich/SB110327-O1.pdf',\n",
       " 'http://www.gerichte-zh.ch/fileadmin/user_upload/entscheide/oeffentlich/1CEF771BD297ADEBC1257401002E6861_AC070004.pdf',\n",
       " 'http://www.gerichte-zh.ch/fileadmin/user_upload/entscheide/oeffentlich/AC110005.pdf',\n",
       " 'http://www.gerichte-zh.ch/fileadmin/user_upload/entscheide/oeffentlich/SB110706-O1.pdf',\n",
       " 'http://www.gerichte-zh.ch/fileadmin/user_upload/entscheide/oeffentlich/SB110414-O1.pdf',\n",
       " 'http://www.gerichte-zh.ch/fileadmin/user_upload/entscheide/oeffentlich/UR110021-O1.pdf',\n",
       " 'http://www.gerichte-zh.ch/fileadmin/user_upload/entscheide/oeffentlich/SB160301-O1.pdf',\n",
       " 'http://www.gerichte-zh.ch/fileadmin/user_upload/entscheide/oeffentlich/UE140233-O4.pdf',\n",
       " 'http://www.gerichte-zh.ch/fileadmin/user_upload/entscheide/oeffentlich/SB130220-O1.pdf',\n",
       " 'http://www.gerichte-zh.ch/fileadmin/user_upload/entscheide/oeffentlich/14C533C94A2DB3D6C1257574004E46CF_AC070030.pdf',\n",
       " 'http://www.gerichte-zh.ch/fileadmin/user_upload/entscheide/oeffentlich/0438899EA7FD3386C125704400237788_AC050048.pdf',\n",
       " 'http://www.gerichte-zh.ch/fileadmin/user_upload/entscheide/oeffentlich/LC170036-O12.pdf',\n",
       " 'http://www.gerichte-zh.ch/fileadmin/user_upload/entscheide/oeffentlich/SB160446-O1.pdf',\n",
       " 'http://www.gerichte-zh.ch/fileadmin/user_upload/entscheide/oeffentlich/SB130460-O1.pdf',\n",
       " 'http://www.gerichte-zh.ch/fileadmin/user_upload/entscheide/oeffentlich/176C594812652243C1256F82005585D8_AC040058.pdf',\n",
       " 'http://www.gerichte-zh.ch/fileadmin/user_upload/entscheide/oeffentlich/35065C623B8F4170C12571F4003FADC5_AC050114.pdf',\n",
       " 'http://www.gerichte-zh.ch/fileadmin/user_upload/entscheide/oeffentlich/UE120301-O3.pdf',\n",
       " 'http://www.gerichte-zh.ch/fileadmin/user_upload/entscheide/oeffentlich/SB160250-O1.pdf',\n",
       " 'http://www.gerichte-zh.ch/fileadmin/user_upload/entscheide/oeffentlich/SB150061-O1.pdf',\n",
       " 'http://www.gerichte-zh.ch/fileadmin/user_upload/entscheide/oeffentlich/SB170460-O1.pdf',\n",
       " 'http://www.gerichte-zh.ch/fileadmin/user_upload/entscheide/oeffentlich/SB120330-O1.pdf',\n",
       " 'http://www.gerichte-zh.ch/fileadmin/user_upload/entscheide/oeffentlich/SB110096-O1.pdf',\n",
       " 'http://www.gerichte-zh.ch/fileadmin/user_upload/entscheide/oeffentlich/31684B0FAE526A46C1256F35002E03B3_AC030121.pdf',\n",
       " 'http://www.gerichte-zh.ch/fileadmin/user_upload/entscheide/oeffentlich/SB130248-O1.pdf',\n",
       " 'http://www.gerichte-zh.ch/fileadmin/user_upload/entscheide/oeffentlich/DAE1BFF166C0D788C1256DFD0039EC32_UN030046.pdf',\n",
       " 'http://www.gerichte-zh.ch/fileadmin/user_upload/entscheide/oeffentlich/SB120345-O1.pdf',\n",
       " 'http://www.gerichte-zh.ch/fileadmin/user_upload/entscheide/oeffentlich/LC130016-O4.pdf',\n",
       " 'http://www.gerichte-zh.ch/fileadmin/user_upload/entscheide/oeffentlich/EB904D9099EF6B97C1257268002BF196_AC060003.pdf',\n",
       " 'http://www.gerichte-zh.ch/fileadmin/user_upload/entscheide/oeffentlich/SB160174-O1.pdf',\n",
       " 'http://www.gerichte-zh.ch/fileadmin/user_upload/entscheide/oeffentlich/SB130306-O1.pdf',\n",
       " 'http://www.gerichte-zh.ch/fileadmin/user_upload/entscheide/oeffentlich/SB140230-O1.pdf',\n",
       " 'http://www.gerichte-zh.ch/fileadmin/user_upload/entscheide/oeffentlich/AC100002.pdf',\n",
       " 'http://www.gerichte-zh.ch/fileadmin/user_upload/entscheide/oeffentlich/SB130009-O1.pdf',\n",
       " 'http://www.gerichte-zh.ch/fileadmin/user_upload/entscheide/oeffentlich/SB110455-O1.pdf',\n",
       " 'http://www.gerichte-zh.ch/fileadmin/user_upload/entscheide/oeffentlich/UB130115-O2.pdf',\n",
       " 'http://www.gerichte-zh.ch/fileadmin/user_upload/entscheide/oeffentlich/SB130026-O1.pdf',\n",
       " 'http://www.gerichte-zh.ch/fileadmin/user_upload/entscheide/oeffentlich/SB110539-O1.pdf',\n",
       " 'http://www.gerichte-zh.ch/fileadmin/user_upload/entscheide/oeffentlich/UH150059-O4.pdf',\n",
       " 'http://www.gerichte-zh.ch/fileadmin/user_upload/entscheide/oeffentlich/AC100014_01.pdf',\n",
       " 'http://www.gerichte-zh.ch/fileadmin/user_upload/entscheide/oeffentlich/SB160355-O1.pdf',\n",
       " 'http://www.gerichte-zh.ch/fileadmin/user_upload/entscheide/oeffentlich/SR110012-O1.pdf',\n",
       " 'http://www.gerichte-zh.ch/fileadmin/user_upload/entscheide/oeffentlich/SB160275-O1.pdf',\n",
       " 'http://www.gerichte-zh.ch/fileadmin/user_upload/entscheide/oeffentlich/SB160085-O1.pdf',\n",
       " 'http://www.gerichte-zh.ch/fileadmin/user_upload/entscheide/oeffentlich/SB130485-O1.pdf',\n",
       " 'http://www.gerichte-zh.ch/fileadmin/user_upload/entscheide/oeffentlich/80F1A18BCBF743E9C1256F340031C855_AC040057.pdf',\n",
       " 'http://www.gerichte-zh.ch/fileadmin/user_upload/entscheide/oeffentlich/SB170007-O1.pdf',\n",
       " 'http://www.gerichte-zh.ch/fileadmin/user_upload/entscheide/oeffentlich/SB160346-O1.pdf',\n",
       " 'http://www.gerichte-zh.ch/fileadmin/user_upload/entscheide/oeffentlich/SB140035-O1.pdf',\n",
       " 'http://www.gerichte-zh.ch/fileadmin/user_upload/entscheide/oeffentlich/UP130038-O2.pdf',\n",
       " 'http://www.gerichte-zh.ch/fileadmin/user_upload/entscheide/oeffentlich/SB110316-O1.pdf',\n",
       " 'http://www.gerichte-zh.ch/fileadmin/user_upload/entscheide/oeffentlich/6397CF306B775058C1256F80004D1303_AC040055.pdf',\n",
       " 'http://www.gerichte-zh.ch/fileadmin/user_upload/entscheide/oeffentlich/869BD9C806BE2366C12570F300562BAA_AC050041.pdf',\n",
       " 'http://www.gerichte-zh.ch/fileadmin/user_upload/entscheide/oeffentlich/SB170394-O1.pdf',\n",
       " 'http://www.gerichte-zh.ch/fileadmin/user_upload/entscheide/oeffentlich/4517458D52861F51C125744200310096_UK080048.pdf',\n",
       " 'http://www.gerichte-zh.ch/fileadmin/user_upload/entscheide/oeffentlich/NQ120033-O1.pdf',\n",
       " 'http://www.gerichte-zh.ch/fileadmin/user_upload/entscheide/oeffentlich/SB160196-O1.pdf',\n",
       " 'http://www.gerichte-zh.ch/fileadmin/user_upload/entscheide/oeffentlich/SB110668-O1.pdf',\n",
       " 'http://www.gerichte-zh.ch/fileadmin/user_upload/entscheide/oeffentlich/B92343042B779414C1256C5200311C9F_UK020087.pdf',\n",
       " 'http://www.gerichte-zh.ch/fileadmin/user_upload/entscheide/oeffentlich/SB150418-O1.pdf',\n",
       " 'http://www.gerichte-zh.ch/fileadmin/user_upload/entscheide/oeffentlich/PQ140068-O21.pdf',\n",
       " 'http://www.gerichte-zh.ch/fileadmin/user_upload/entscheide/oeffentlich/SB140099-O1.pdf',\n",
       " 'http://www.gerichte-zh.ch/fileadmin/user_upload/entscheide/oeffentlich/2A3DEF90ABC5F9D9C12573130039EB1A_UG060007.pdf',\n",
       " 'http://www.gerichte-zh.ch/fileadmin/user_upload/entscheide/oeffentlich/SB140357-O1.pdf',\n",
       " 'http://www.gerichte-zh.ch/fileadmin/user_upload/entscheide/oeffentlich/SB120092-O1.pdf',\n",
       " 'http://www.gerichte-zh.ch/fileadmin/user_upload/entscheide/oeffentlich/SB120323-O1.pdf',\n",
       " 'http://www.gerichte-zh.ch/fileadmin/user_upload/entscheide/oeffentlich/SB140051-O1.pdf',\n",
       " 'http://www.gerichte-zh.ch/fileadmin/user_upload/entscheide/oeffentlich/SB110517-O1.pdf',\n",
       " 'http://www.gerichte-zh.ch/fileadmin/user_upload/entscheide/oeffentlich/1E7BE01D80E08B59C1256F2600516AE0_SB040368.pdf',\n",
       " 'http://www.gerichte-zh.ch/fileadmin/user_upload/entscheide/oeffentlich/SB140514-O1.pdf',\n",
       " 'http://www.gerichte-zh.ch/fileadmin/user_upload/entscheide/oeffentlich/F9A78CDD8C742EB2C1256DB1004BF5FE_Kassationsgericht.pdf',\n",
       " 'http://www.gerichte-zh.ch/fileadmin/user_upload/entscheide/oeffentlich/SB110381-O1.pdf',\n",
       " 'http://www.gerichte-zh.ch/fileadmin/user_upload/entscheide/oeffentlich/SB180020-O1.pdf',\n",
       " 'http://www.gerichte-zh.ch/fileadmin/user_upload/entscheide/oeffentlich/85912267E3C0BCC7C125726D003BEE65_UK060065.pdf',\n",
       " 'http://www.gerichte-zh.ch/fileadmin/user_upload/entscheide/oeffentlich/UH130339-O2.pdf',\n",
       " 'http://www.gerichte-zh.ch/fileadmin/user_upload/entscheide/oeffentlich/SB110582-O1.pdf',\n",
       " 'http://www.gerichte-zh.ch/fileadmin/user_upload/entscheide/oeffentlich/SB120233-O1.pdf',\n",
       " 'http://www.gerichte-zh.ch/fileadmin/user_upload/entscheide/oeffentlich/SB110363-O1.pdf',\n",
       " 'http://www.gerichte-zh.ch/fileadmin/user_upload/entscheide/oeffentlich/SB140080-O1.pdf',\n",
       " 'http://www.gerichte-zh.ch/fileadmin/user_upload/entscheide/oeffentlich/SB160288-O1.pdf',\n",
       " 'http://www.gerichte-zh.ch/fileadmin/user_upload/entscheide/oeffentlich/SB130367-O1.pdf',\n",
       " 'http://www.gerichte-zh.ch/fileadmin/user_upload/entscheide/oeffentlich/SB150286-O1.pdf',\n",
       " 'http://www.gerichte-zh.ch/fileadmin/user_upload/entscheide/oeffentlich/UE120247-O4.pdf',\n",
       " 'http://www.gerichte-zh.ch/fileadmin/user_upload/entscheide/oeffentlich/FBB0C619BD637AE1C1256F3300381314_AC030145.pdf',\n",
       " 'http://www.gerichte-zh.ch/fileadmin/user_upload/entscheide/oeffentlich/SB130430-O1.pdf',\n",
       " 'http://www.gerichte-zh.ch/fileadmin/user_upload/entscheide/oeffentlich/D6D8D7D61535EA4CC12571C5004BBE62_AC060010.pdf',\n",
       " 'http://www.gerichte-zh.ch/fileadmin/user_upload/entscheide/oeffentlich/SB150531-O1.pdf',\n",
       " 'http://www.gerichte-zh.ch/fileadmin/user_upload/entscheide/oeffentlich/SB120254-O1.pdf',\n",
       " 'http://www.gerichte-zh.ch/fileadmin/user_upload/entscheide/oeffentlich/C463CE215568A007C12571A4004AEFC2_AC050088.pdf',\n",
       " 'http://www.gerichte-zh.ch/fileadmin/user_upload/entscheide/oeffentlich/SB160205-O1.pdf',\n",
       " 'http://www.gerichte-zh.ch/fileadmin/user_upload/entscheide/oeffentlich/SB120026-O1.pdf',\n",
       " 'http://www.gerichte-zh.ch/fileadmin/user_upload/entscheide/oeffentlich/SB120504-O1.pdf',\n",
       " 'http://www.gerichte-zh.ch/fileadmin/user_upload/entscheide/oeffentlich/57610165AF874012C1257746004F16F4_SE090044.publ.pdf',\n",
       " 'http://www.gerichte-zh.ch/fileadmin/user_upload/entscheide/oeffentlich/SB120048-O1.pdf',\n",
       " 'http://www.gerichte-zh.ch/fileadmin/user_upload/entscheide/oeffentlich/UE180016-O7.pdf',\n",
       " 'http://www.gerichte-zh.ch/fileadmin/user_upload/entscheide/oeffentlich/BB7D9AE9B021013FC12574E5002377D8_AC070027.pdf',\n",
       " 'http://www.gerichte-zh.ch/fileadmin/user_upload/entscheide/oeffentlich/RB130058-O1.pdf',\n",
       " 'http://www.gerichte-zh.ch/fileadmin/user_upload/entscheide/oeffentlich/D95B090222002848C1256F4D0057EBD8_AC040038.pdf',\n",
       " 'http://www.gerichte-zh.ch/fileadmin/user_upload/entscheide/oeffentlich/SB110482-O1.pdf',\n",
       " 'http://www.gerichte-zh.ch/fileadmin/user_upload/entscheide/oeffentlich/SB110509-O1.pdf',\n",
       " 'http://www.gerichte-zh.ch/fileadmin/user_upload/entscheide/oeffentlich/SB160171-O1.pdf',\n",
       " 'http://www.gerichte-zh.ch/fileadmin/user_upload/entscheide/oeffentlich/SB160209-O1.pdf',\n",
       " 'http://www.gerichte-zh.ch/fileadmin/user_upload/entscheide/oeffentlich/SB170190-O1.pdf',\n",
       " 'http://www.gerichte-zh.ch/fileadmin/user_upload/entscheide/oeffentlich/SB110435-O1.pdf',\n",
       " 'http://www.gerichte-zh.ch/fileadmin/user_upload/entscheide/oeffentlich/SB170374-O1.pdf',\n",
       " 'http://www.gerichte-zh.ch/fileadmin/user_upload/entscheide/oeffentlich/1D47B27AE3D6CB18C12570F30054F40F_AC050027.pdf',\n",
       " 'http://www.gerichte-zh.ch/fileadmin/user_upload/entscheide/oeffentlich/SB110279-O1.pdf',\n",
       " 'http://www.gerichte-zh.ch/fileadmin/user_upload/entscheide/oeffentlich/B458F3BC1E1C1542C12570930034768E_AC050002.pdf',\n",
       " 'http://www.gerichte-zh.ch/fileadmin/user_upload/entscheide/oeffentlich/SB110438-O1.pdf',\n",
       " 'http://www.gerichte-zh.ch/fileadmin/user_upload/entscheide/oeffentlich/PA140019-O1.pdf',\n",
       " 'http://www.gerichte-zh.ch/fileadmin/user_upload/entscheide/oeffentlich/LB160075-O5.pdf',\n",
       " 'http://www.gerichte-zh.ch/fileadmin/user_upload/entscheide/oeffentlich/SB160113-O1.pdf',\n",
       " 'http://www.gerichte-zh.ch/fileadmin/user_upload/entscheide/oeffentlich/57D060BC6B5202A9C1257280002DE73B_AC060014.pdf',\n",
       " 'http://www.gerichte-zh.ch/fileadmin/user_upload/entscheide/oeffentlich/0B56925B0AB68E6AC125742D00423D30_AC070015.pdf',\n",
       " 'http://www.gerichte-zh.ch/fileadmin/user_upload/entscheide/oeffentlich/SB170301-O1.pdf',\n",
       " 'http://www.gerichte-zh.ch/fileadmin/user_upload/entscheide/oeffentlich/SB150393-O1.pdf']"
      ]
     },
     "execution_count": 41,
     "metadata": {},
     "output_type": "execute_result"
    }
   ],
   "source": [
    "all_pdf_links = list(set(pdf_links))\n",
    "all_pdf_links"
   ]
  },
  {
   "cell_type": "markdown",
   "metadata": {},
   "source": [
    "## Download the pdfs"
   ]
  },
  {
   "cell_type": "code",
   "execution_count": 42,
   "metadata": {},
   "outputs": [],
   "source": [
    "import urllib\n",
    "import requests\n",
    "from urllib import request\n",
    "from bs4 import BeautifulSoup\n",
    "import re\n",
    "import os\n",
    "import urllib"
   ]
  },
  {
   "cell_type": "code",
   "execution_count": 46,
   "metadata": {},
   "outputs": [],
   "source": [
    "for urls in all_pdf_links:\n",
    "    link = urls\n",
    "    book_name = \"C:/Users/Dominik Balmer/Documents/LEDE_2019/data-studio-projects/\"  + link.split('/')[-1]\n",
    "    with open(book_name, 'wb') as book:\n",
    "        a = requests.get(link, stream=True)\n",
    "\n",
    "        for block in a.iter_content(512):\n",
    "            if not block:\n",
    "                break\n",
    "\n",
    "            book.write(block)"
   ]
  },
  {
   "cell_type": "markdown",
   "metadata": {},
   "source": [
    "## Convert the pdfs into text "
   ]
  },
  {
   "cell_type": "code",
   "execution_count": 49,
   "metadata": {},
   "outputs": [
    {
     "name": "stdout",
     "output_type": "stream",
     "text": [
      "Collecting tika\n",
      "  Downloading https://files.pythonhosted.org/packages/10/75/b566e446ffcf292f10c8d84c15a3d91615fe3d7ca8072a17c949d4e84b66/tika-1.19.tar.gz\n",
      "Requirement already satisfied: setuptools in c:\\users\\dominik balmer\\appdata\\local\\programs\\python\\python37\\lib\\site-packages (from tika) (40.8.0)\n",
      "Requirement already satisfied: requests in c:\\users\\dominik balmer\\appdata\\local\\programs\\python\\python37\\lib\\site-packages (from tika) (2.22.0)\n",
      "Requirement already satisfied: certifi>=2017.4.17 in c:\\users\\dominik balmer\\appdata\\local\\programs\\python\\python37\\lib\\site-packages (from requests->tika) (2019.3.9)\n",
      "Requirement already satisfied: idna<2.9,>=2.5 in c:\\users\\dominik balmer\\appdata\\local\\programs\\python\\python37\\lib\\site-packages (from requests->tika) (2.8)\n",
      "Requirement already satisfied: chardet<3.1.0,>=3.0.2 in c:\\users\\dominik balmer\\appdata\\local\\programs\\python\\python37\\lib\\site-packages (from requests->tika) (3.0.4)\n",
      "Requirement already satisfied: urllib3!=1.25.0,!=1.25.1,<1.26,>=1.21.1 in c:\\users\\dominik balmer\\appdata\\local\\programs\\python\\python37\\lib\\site-packages (from requests->tika) (1.25.3)\n",
      "Installing collected packages: tika\n",
      "  Running setup.py install for tika: started\n",
      "    Running setup.py install for tika: finished with status 'done'\n",
      "Successfully installed tika-1.19\n"
     ]
    },
    {
     "name": "stderr",
     "output_type": "stream",
     "text": [
      "You are using pip version 19.0.3, however version 19.1.1 is available.\n",
      "You should consider upgrading via the 'python -m pip install --upgrade pip' command.\n"
     ]
    }
   ],
   "source": [
    "!pip install tika"
   ]
  },
  {
   "cell_type": "code",
   "execution_count": 2,
   "metadata": {},
   "outputs": [],
   "source": [
    "from tika import parser\n",
    "import glob"
   ]
  },
  {
   "cell_type": "code",
   "execution_count": 3,
   "metadata": {},
   "outputs": [
    {
     "name": "stderr",
     "output_type": "stream",
     "text": [
      "2019-07-09 12:10:52,033 [MainThread  ] [WARNI]  Failed to see startup log message; retrying...\n",
      "2019-07-09 12:10:57,096 [MainThread  ] [WARNI]  Failed to see startup log message; retrying...\n",
      "IOPub data rate exceeded.\n",
      "The notebook server will temporarily stop sending output\n",
      "to the client in order to avoid crashing it.\n",
      "To change this limit, set the config variable\n",
      "`--NotebookApp.iopub_data_rate_limit`.\n",
      "\n",
      "Current values:\n",
      "NotebookApp.iopub_data_rate_limit=1000000.0 (bytes/sec)\n",
      "NotebookApp.rate_limit_window=3.0 (secs)\n",
      "\n"
     ]
    }
   ],
   "source": [
    "# raw = parser.from_file('SB120026-O1.pdf')\n",
    "# print(raw['content'])\n",
    "\n",
    "def read_pdf(filename):\n",
    "    text = parser.from_file(filename)\n",
    "    return(text)\n",
    "\n",
    "all_files = glob.glob(\".\\\\pdf_Obergericht\\\\*.pdf\")\n",
    "pdf_text_list=[]\n",
    "for i,file in enumerate(all_files):\n",
    "    text=read_pdf(file)\n",
    "    pdf_text_list.append(text['content'])\n",
    "\n",
    "print(pdf_text_list)"
   ]
  },
  {
   "cell_type": "code",
   "execution_count": null,
   "metadata": {},
   "outputs": [],
   "source": []
  },
  {
   "cell_type": "code",
   "execution_count": null,
   "metadata": {},
   "outputs": [],
   "source": []
  }
 ],
 "metadata": {
  "kernelspec": {
   "display_name": "Python 3",
   "language": "python",
   "name": "python3"
  },
  "language_info": {
   "codemirror_mode": {
    "name": "ipython",
    "version": 3
   },
   "file_extension": ".py",
   "mimetype": "text/x-python",
   "name": "python",
   "nbconvert_exporter": "python",
   "pygments_lexer": "ipython3",
   "version": "3.7.3"
  }
 },
 "nbformat": 4,
 "nbformat_minor": 2
}
